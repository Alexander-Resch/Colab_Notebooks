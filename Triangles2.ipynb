{
  "nbformat": 4,
  "nbformat_minor": 0,
  "metadata": {
    "colab": {
      "name": "Triangles2.ipynb",
      "provenance": [],
      "collapsed_sections": [],
      "include_colab_link": true
    },
    "kernelspec": {
      "name": "python3",
      "display_name": "Python 3"
    }
  },
  "cells": [
    {
      "cell_type": "markdown",
      "metadata": {
        "id": "view-in-github",
        "colab_type": "text"
      },
      "source": [
        "<a href=\"https://colab.research.google.com/github/Alexander-Resch/Colab_Notebooks/blob/main/Triangles2.ipynb\" target=\"_parent\"><img src=\"https://colab.research.google.com/assets/colab-badge.svg\" alt=\"Open In Colab\"/></a>"
      ]
    },
    {
      "cell_type": "code",
      "metadata": {
        "id": "ivr4QgaYXzMG"
      },
      "source": [
        "import numpy as np\r\n",
        "import matplotlib.pyplot as plt"
      ],
      "execution_count": null,
      "outputs": []
    },
    {
      "cell_type": "code",
      "metadata": {
        "colab": {
          "base_uri": "https://localhost:8080/",
          "height": 265
        },
        "id": "odLukbgkX2Pq",
        "outputId": "ce0c7fae-48d9-42b7-84da-a7ae5ad68a70"
      },
      "source": [
        "def add_Noise(X=[0,0],sigma=1,mu=0,sigma_alpha=0):\r\n",
        "\r\n",
        "  X[0] = X[0]+sigma*np.random.randn()+mu\r\n",
        "  X[1] = X[1]+sigma*np.random.randn()+mu\r\n",
        "  rotation = sigma_alpha*np.random.randn()\r\n",
        "\r\n",
        "  return X, rotation\r\n",
        "\r\n",
        "def rotate_Points(Coordinates,angle_in_degrees,center_of_rotation=(0,0)):\r\n",
        "\r\n",
        "\r\n",
        "  rotation = angle_in_degrees*np.pi/180 #convert to radian\r\n",
        "  M = np.array([[np.cos(rotation),-np.sin(rotation)],\r\n",
        "                [np.sin(rotation),np.cos(rotation)]])\r\n",
        "  \r\n",
        "  Rotated_Coordinates = []\r\n",
        "  \r\n",
        "  for point in Coordinates:\r\n",
        "    point=list(point)\r\n",
        "    #print('initial point: ', point)\r\n",
        "    \r\n",
        "    point[0] = point[0]-center_of_rotation[0]\r\n",
        "    point[1] = point[1]-center_of_rotation[1]\r\n",
        "    #print('shifted point: ', point)\r\n",
        "\r\n",
        "    p = np.array([[point[0]],\r\n",
        "                  [point[1]]])\r\n",
        "    #print(M.shape,p.shape)\r\n",
        "    p_new = np.ravel(M.dot(p))\r\n",
        "    #print('rotated point: ', p_new)\r\n",
        "\r\n",
        "    p_new[0] = p_new[0]+center_of_rotation[0]\r\n",
        "    p_new[1] = p_new[1]+center_of_rotation[1]\r\n",
        "    #print('shifted bacl point: ', p_new)\r\n",
        "\r\n",
        "    Rotated_Coordinates.append((p_new[0],p_new[1]))\r\n",
        "  \r\n",
        "  return Rotated_Coordinates\r\n",
        "\r\n",
        "#simulate for n runs\r\n",
        "n = 100\r\n",
        "\r\n",
        "\r\n",
        "\r\n",
        "for i in range(100):\r\n",
        "\r\n",
        "  'DEFINE COORDINATES [mm]'\r\n",
        "  tx, ty = 0, 500\r\n",
        "  T = [tx, ty]\r\n",
        "  T, angle_in_degrees = add_Noise(T,sigma=20,sigma_alpha=5)\r\n",
        "  \r\n",
        "  xBT, yBT = 0, -500\r\n",
        "  bx, by = 0, 0\r\n",
        "  B = [bx, by]  \r\n",
        "  B[0], B[1] = T[0]+xBT,T[1]+yBT\r\n",
        "\r\n",
        "  xWT, yWT = 1000, -500\r\n",
        "  wx, wy = 1000, 0\r\n",
        "  W = [wx,wy]\r\n",
        "  W[0], W[1] = T[0]+xWT,T[1]+yWT\r\n",
        "\r\n",
        "\r\n",
        "\r\n",
        "  tri = [T,B,W]\r\n",
        "  rotated_triangle = rotate_Points(tri,angle_in_degrees=angle_in_degrees,center_of_rotation=T)\r\n",
        "\r\n",
        "#plot simulated\r\n",
        "  for p in rotated_triangle:\r\n",
        "    plt.scatter(p[0],p[1],alpha = 0.1, color = 'blue')\r\n"
      ],
      "execution_count": null,
      "outputs": [
        {
          "output_type": "display_data",
          "data": {
            "image/png": "[encoded data removed]",
            "text/plain": [
              "<Figure size 432x288 with 1 Axes>"
            ]
          },
          "metadata": {
            "tags": [],
            "needs_background": "light"
          }
        }
      ]
    },
    {
      "cell_type": "code",
      "metadata": {
        "id": "VcpyRHe2yNvy"
      },
      "source": [
        ""
      ],
      "execution_count": null,
      "outputs": []
    }
  ]
}
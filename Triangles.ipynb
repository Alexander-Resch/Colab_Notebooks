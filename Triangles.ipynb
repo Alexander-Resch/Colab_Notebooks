{
  "nbformat": 4,
  "nbformat_minor": 0,
  "metadata": {
    "colab": {
      "name": "Triangles.ipynb",
      "provenance": [],
      "collapsed_sections": [],
      "include_colab_link": true
    },
    "kernelspec": {
      "name": "python3",
      "display_name": "Python 3"
    }
  },
  "cells": [
    {
      "cell_type": "markdown",
      "metadata": {
        "id": "view-in-github",
        "colab_type": "text"
      },
      "source": [
        "<a href=\"https://colab.research.google.com/github/Alexander-Resch/Colab_Notebooks/blob/main/Triangles.ipynb\" target=\"_parent\"><img src=\"https://colab.research.google.com/assets/colab-badge.svg\" alt=\"Open In Colab\"/></a>"
      ]
    },
    {
      "cell_type": "code",
      "metadata": {
        "id": "ivr4QgaYXzMG"
      },
      "source": [
        "import numpy as np\r\n",
        "import matplotlib.pyplot as plt"
      ],
      "execution_count": null,
      "outputs": []
    },
    {
      "cell_type": "code",
      "metadata": {
        "colab": {
          "base_uri": "https://localhost:8080/",
          "height": 265
        },
        "id": "odLukbgkX2Pq",
        "outputId": "7bb879f9-bbfb-46b2-f123-8658390b4740"
      },
      "source": [
        "def add_Noise(X=[0,0],sigma=1,mu=0,sigma_alpha=0):\r\n",
        "\r\n",
        "  X[0] = X[0]+sigma*np.random.randn()+mu\r\n",
        "  X[1] = X[1]+sigma*np.random.randn()+mu\r\n",
        "  rotation = sigma_alpha*np.random.randn()\r\n",
        "\r\n",
        "  return X, rotation\r\n",
        "\r\n",
        "def rotate_Points(Coordinates,angle_in_degrees,center_of_rotation=(0,0)):\r\n",
        "\r\n",
        "\r\n",
        "  rotation = angle_in_degrees*np.pi/180 #convert to radian\r\n",
        "  M = np.array([[np.cos(rotation),-np.sin(rotation)],\r\n",
        "                [np.sin(rotation),np.cos(rotation)]])\r\n",
        "  \r\n",
        "  Rotated_Coordinates = []\r\n",
        "  \r\n",
        "  for point in Coordinates:\r\n",
        "    point=list(point)\r\n",
        "    #print('initial point: ', point)\r\n",
        "    \r\n",
        "    point[0] = point[0]-center_of_rotation[0]\r\n",
        "    point[1] = point[1]-center_of_rotation[1]\r\n",
        "    #print('shifted point: ', point)\r\n",
        "\r\n",
        "    p = np.array([[point[0]],\r\n",
        "                  [point[1]]])\r\n",
        "    #print(M.shape,p.shape)\r\n",
        "    p_new = np.ravel(M.dot(p))\r\n",
        "    #print('rotated point: ', p_new)\r\n",
        "\r\n",
        "    p_new[0] = p_new[0]+center_of_rotation[0]\r\n",
        "    p_new[1] = p_new[1]+center_of_rotation[1]\r\n",
        "    #print('shifted bacl point: ', p_new)\r\n",
        "\r\n",
        "    Rotated_Coordinates.append((p_new[0],p_new[1]))\r\n",
        "  \r\n",
        "  return Rotated_Coordinates\r\n",
        "\r\n",
        "for i in range(100):\r\n",
        "\r\n",
        "  'DEFINE COORDINATES [mm]'\r\n",
        "  tx, ty = 0, 500\r\n",
        "  T = [tx, ty]\r\n",
        "  T, angle_in_degrees = add_Noise(T,sigma=20,sigma_alpha=5)\r\n",
        "  \r\n",
        "  xBT, yBT = 0, -500\r\n",
        "  bx, by = 0, 0\r\n",
        "  B = [bx, by]  \r\n",
        "  B[0], B[1] = T[0]+xBT,T[1]+yBT\r\n",
        "\r\n",
        "  xWT, yWT = 1000, -500\r\n",
        "  wx, wy = 1000, 0\r\n",
        "  W = [wx,wy]\r\n",
        "  W[0], W[1] = T[0]+xWT,T[1]+yWT\r\n",
        "\r\n",
        "\r\n",
        "\r\n",
        "  tri = [T,B,W]\r\n",
        "  rotated_triangle = rotate_Points(tri,angle_in_degrees=angle_in_degrees,center_of_rotation=T)\r\n",
        "\r\n",
        "#plot simulated\r\n",
        "  for p in rotated_triangle:\r\n",
        "    plt.scatter(p[0],p[1],alpha = 0.1, color = 'blue')\r\n"
      ],
      "execution_count": 5,
      "outputs": [
        {
          "output_type": "display_data",
          "data": {
            "image/png": "[encoded data removed]",
            "text/plain": [
              "<Figure size 432x288 with 1 Axes>"
            ]
          },
          "metadata": {
            "tags": [],
            "needs_background": "light"
          }
        }
      ]
    },
    {
      "cell_type": "code",
      "metadata": {
        "colab": {
          "base_uri": "https://localhost:8080/",
          "height": 350
        },
        "id": "dvbVGDqEYTRX",
        "outputId": "2ed3e7f4-52af-4db5-a1c2-8afd4cc47779"
      },
      "source": [
        ""
      ],
      "execution_count": null,
      "outputs": [
        {
          "output_type": "error",
          "ename": "NameError",
          "evalue": "ignored",
          "traceback": [
            "\u001b[0;31m---------------------------------------------------------------------------\u001b[0m",
            "\u001b[0;31mNameError\u001b[0m                                 Traceback (most recent call last)",
            "\u001b[0;32m<ipython-input-38-f56d508a1297>\u001b[0m in \u001b[0;36m<module>\u001b[0;34m()\u001b[0m\n\u001b[1;32m      4\u001b[0m   \u001b[0mT\u001b[0m \u001b[0;34m=\u001b[0m \u001b[0;34m[\u001b[0m\u001b[0;36m0\u001b[0m\u001b[0;34m,\u001b[0m\u001b[0;36m500\u001b[0m\u001b[0;34m]\u001b[0m \u001b[0;31m#initial position\u001b[0m\u001b[0;34m\u001b[0m\u001b[0;34m\u001b[0m\u001b[0m\n\u001b[1;32m      5\u001b[0m   \u001b[0mT\u001b[0m\u001b[0;34m,\u001b[0m\u001b[0m_\u001b[0m \u001b[0;34m=\u001b[0m \u001b[0madd_Noise\u001b[0m\u001b[0;34m(\u001b[0m\u001b[0mT\u001b[0m\u001b[0;34m)\u001b[0m\u001b[0;34m\u001b[0m\u001b[0;34m\u001b[0m\u001b[0m\n\u001b[0;32m----> 6\u001b[0;31m   \u001b[0mq\u001b[0m\u001b[0;34m.\u001b[0m\u001b[0mappend\u001b[0m\u001b[0;34m(\u001b[0m\u001b[0mmake_triangle\u001b[0m\u001b[0;34m(\u001b[0m\u001b[0mT\u001b[0m\u001b[0;34m)\u001b[0m\u001b[0;34m)\u001b[0m\u001b[0;34m\u001b[0m\u001b[0;34m\u001b[0m\u001b[0m\n\u001b[0m\u001b[1;32m      7\u001b[0m \u001b[0;34m\u001b[0m\u001b[0m\n\u001b[1;32m      8\u001b[0m \u001b[0mx\u001b[0m \u001b[0;34m=\u001b[0m \u001b[0;34m[\u001b[0m\u001b[0mx\u001b[0m\u001b[0;34m[\u001b[0m\u001b[0;36m0\u001b[0m\u001b[0;34m]\u001b[0m \u001b[0;32mfor\u001b[0m \u001b[0mx\u001b[0m \u001b[0;32min\u001b[0m \u001b[0mq\u001b[0m\u001b[0;34m]\u001b[0m\u001b[0;34m\u001b[0m\u001b[0;34m\u001b[0m\u001b[0m\n",
            "\u001b[0;32m<ipython-input-37-dd6fa7eb7143>\u001b[0m in \u001b[0;36mmake_triangle\u001b[0;34m(T, B, W)\u001b[0m\n\u001b[1;32m     21\u001b[0m   \u001b[0mT\u001b[0m \u001b[0;34m=\u001b[0m \u001b[0mB\u001b[0m\u001b[0;34m-\u001b[0m\u001b[0mT\u001b[0m\u001b[0;34m\u001b[0m\u001b[0;34m\u001b[0m\u001b[0m\n\u001b[1;32m     22\u001b[0m \u001b[0;34m\u001b[0m\u001b[0m\n\u001b[0;32m---> 23\u001b[0;31m   \u001b[0mdTB\u001b[0m \u001b[0;34m=\u001b[0m \u001b[0mnp\u001b[0m\u001b[0;34m.\u001b[0m\u001b[0mlinalg\u001b[0m\u001b[0;34m.\u001b[0m\u001b[0mnorm\u001b[0m\u001b[0;34m(\u001b[0m\u001b[0mTB\u001b[0m\u001b[0;34m)\u001b[0m\u001b[0;34m\u001b[0m\u001b[0;34m\u001b[0m\u001b[0m\n\u001b[0m\u001b[1;32m     24\u001b[0m \u001b[0;34m\u001b[0m\u001b[0m\n\u001b[1;32m     25\u001b[0m   \u001b[0mPosition_T\u001b[0m \u001b[0;34m=\u001b[0m \u001b[0mT\u001b[0m\u001b[0;34m\u001b[0m\u001b[0;34m\u001b[0m\u001b[0m\n",
            "\u001b[0;31mNameError\u001b[0m: name 'TB' is not defined"
          ]
        }
      ]
    },
    {
      "cell_type": "code",
      "metadata": {
        "colab": {
          "base_uri": "https://localhost:8080/"
        },
        "id": "JNLfzmuXaDQk",
        "outputId": "90a8cc99-d160-40ab-c9f7-1247fe7cfd51"
      },
      "source": [
        ""
      ],
      "execution_count": null,
      "outputs": [
        {
          "output_type": "execute_result",
          "data": {
            "text/plain": [
              "array([3, 4])"
            ]
          },
          "metadata": {
            "tags": []
          },
          "execution_count": 25
        }
      ]
    },
    {
      "cell_type": "code",
      "metadata": {
        "id": "jdiAh5HbdOrt"
      },
      "source": [
        ""
      ],
      "execution_count": null,
      "outputs": []
    }
  ]
}
{
  "nbformat": 4,
  "nbformat_minor": 0,
  "metadata": {
    "colab": {
      "name": "Triangles.ipynb",
      "provenance": [],
      "include_colab_link": true
    },
    "kernelspec": {
      "name": "python3",
      "display_name": "Python 3"
    }
  },
  "cells": [
    {
      "cell_type": "markdown",
      "metadata": {
        "id": "view-in-github",
        "colab_type": "text"
      },
      "source": [
        "<a href=\"https://colab.research.google.com/github/Alexander-Resch/Colab_Notebooks/blob/main/Triangles.ipynb\" target=\"_parent\"><img src=\"https://colab.research.google.com/assets/colab-badge.svg\" alt=\"Open In Colab\"/></a>"
      ]
    },
    {
      "cell_type": "code",
      "metadata": {
        "id": "ivr4QgaYXzMG"
      },
      "source": [
        "import numpy as np\r\n",
        "import matplotlib.pyplot as plt"
      ],
      "execution_count": null,
      "outputs": []
    },
    {
      "cell_type": "code",
      "metadata": {
        "colab": {
          "base_uri": "https://localhost:8080/"
        },
        "id": "odLukbgkX2Pq",
        "outputId": "8a05b5b9-50aa-48c5-a149-5859d8b4cfc9"
      },
      "source": [
        "def add_Noise(X=[0,0],sigma=1,mu=0,sigma_alpha=0):\r\n",
        "\r\n",
        "  X[0] = X[0]+sigma*np.random.randn()+mu\r\n",
        "  X[1] = X[1]+sigma*np.random.randn()+mu\r\n",
        "  rotation = 0.05*np.random.randn()\r\n",
        "\r\n",
        "  return X, rotation\r\n",
        "\r\n",
        "def rotate_triangle(Coordinates,angle_in_degrees,center_of_rotation=(0,0)):\r\n",
        "\r\n",
        "  rotation = angle_in_degrees*np.pi/180 #convert to radian\r\n",
        "  M = np.array([[np.cos(rotation),-np.sin(rotation)],[np.sin(rotation),np.cos(rotation)]])\r\n",
        "\r\n",
        "\r\n",
        "\r\n",
        "def make_triangle(T=[0,500], rotation = 0,B=[0,0],W=[1000,0]):\r\n",
        "  dWB = 1000\r\n",
        "  dTB = 500\r\n",
        "  dTW = np.sqrt((500**2)+(1000**2))\r\n",
        "  T_old = np.array([0,500])\r\n",
        "  \r\n",
        "  # T is passed as a noisy point\r\n",
        "  T = np.array(T)\r\n",
        "  \r\n",
        "  #calculate new B and W values based on noisy T with rotation Matrix\r\n",
        "  rotation = rotation*np.pi/180 #convert to radian\r\n",
        "  M = np.array([[np.cos(rotation),-np.sin(rotation)],[np.sin(rotation),np.cos(rotation)]])\r\n",
        "  #print(M)\r\n",
        "  \r\n",
        "  B = np.array(B) + dTB\r\n",
        "\r\n",
        "  W = np.array(W)\r\n",
        "  \r\n",
        "\r\n",
        "  Position_T = T \r\n",
        "  \r\n",
        "\r\n",
        "  return Position_T\r\n",
        "\r\n",
        "make_triangle(rotation=45)"
      ],
      "execution_count": null,
      "outputs": [
        {
          "output_type": "stream",
          "text": [
            "[[ 0.70710678 -0.70710678]\n",
            " [ 0.70710678  0.70710678]]\n"
          ],
          "name": "stdout"
        },
        {
          "output_type": "execute_result",
          "data": {
            "text/plain": [
              "array([  0, 500])"
            ]
          },
          "metadata": {
            "tags": []
          },
          "execution_count": 43
        }
      ]
    },
    {
      "cell_type": "code",
      "metadata": {
        "colab": {
          "base_uri": "https://localhost:8080/",
          "height": 350
        },
        "id": "dvbVGDqEYTRX",
        "outputId": "2ed3e7f4-52af-4db5-a1c2-8afd4cc47779"
      },
      "source": [
        "\r\n",
        "q = []\r\n",
        "for i in range(1000):\r\n",
        "  T = [0,500] #initial position\r\n",
        "  T,_ = add_Noise(T)\r\n",
        "  q.append(make_triangle(T))\r\n",
        "\r\n",
        "x = [x[0] for x in q]\r\n",
        "y = [x[1] for x in q]\r\n",
        "f = plt.figure(figsize = (14,12))\r\n",
        "\r\n",
        "ax = f.add_subplot()\r\n",
        "ax.set_ylim([-10,600])\r\n",
        "ax.set_xlim([-100,1100])\r\n",
        "ax.scatter(x,y)"
      ],
      "execution_count": null,
      "outputs": [
        {
          "output_type": "error",
          "ename": "NameError",
          "evalue": "ignored",
          "traceback": [
            "\u001b[0;31m---------------------------------------------------------------------------\u001b[0m",
            "\u001b[0;31mNameError\u001b[0m                                 Traceback (most recent call last)",
            "\u001b[0;32m<ipython-input-38-f56d508a1297>\u001b[0m in \u001b[0;36m<module>\u001b[0;34m()\u001b[0m\n\u001b[1;32m      4\u001b[0m   \u001b[0mT\u001b[0m \u001b[0;34m=\u001b[0m \u001b[0;34m[\u001b[0m\u001b[0;36m0\u001b[0m\u001b[0;34m,\u001b[0m\u001b[0;36m500\u001b[0m\u001b[0;34m]\u001b[0m \u001b[0;31m#initial position\u001b[0m\u001b[0;34m\u001b[0m\u001b[0;34m\u001b[0m\u001b[0m\n\u001b[1;32m      5\u001b[0m   \u001b[0mT\u001b[0m\u001b[0;34m,\u001b[0m\u001b[0m_\u001b[0m \u001b[0;34m=\u001b[0m \u001b[0madd_Noise\u001b[0m\u001b[0;34m(\u001b[0m\u001b[0mT\u001b[0m\u001b[0;34m)\u001b[0m\u001b[0;34m\u001b[0m\u001b[0;34m\u001b[0m\u001b[0m\n\u001b[0;32m----> 6\u001b[0;31m   \u001b[0mq\u001b[0m\u001b[0;34m.\u001b[0m\u001b[0mappend\u001b[0m\u001b[0;34m(\u001b[0m\u001b[0mmake_triangle\u001b[0m\u001b[0;34m(\u001b[0m\u001b[0mT\u001b[0m\u001b[0;34m)\u001b[0m\u001b[0;34m)\u001b[0m\u001b[0;34m\u001b[0m\u001b[0;34m\u001b[0m\u001b[0m\n\u001b[0m\u001b[1;32m      7\u001b[0m \u001b[0;34m\u001b[0m\u001b[0m\n\u001b[1;32m      8\u001b[0m \u001b[0mx\u001b[0m \u001b[0;34m=\u001b[0m \u001b[0;34m[\u001b[0m\u001b[0mx\u001b[0m\u001b[0;34m[\u001b[0m\u001b[0;36m0\u001b[0m\u001b[0;34m]\u001b[0m \u001b[0;32mfor\u001b[0m \u001b[0mx\u001b[0m \u001b[0;32min\u001b[0m \u001b[0mq\u001b[0m\u001b[0;34m]\u001b[0m\u001b[0;34m\u001b[0m\u001b[0;34m\u001b[0m\u001b[0m\n",
            "\u001b[0;32m<ipython-input-37-dd6fa7eb7143>\u001b[0m in \u001b[0;36mmake_triangle\u001b[0;34m(T, B, W)\u001b[0m\n\u001b[1;32m     21\u001b[0m   \u001b[0mT\u001b[0m \u001b[0;34m=\u001b[0m \u001b[0mB\u001b[0m\u001b[0;34m-\u001b[0m\u001b[0mT\u001b[0m\u001b[0;34m\u001b[0m\u001b[0;34m\u001b[0m\u001b[0m\n\u001b[1;32m     22\u001b[0m \u001b[0;34m\u001b[0m\u001b[0m\n\u001b[0;32m---> 23\u001b[0;31m   \u001b[0mdTB\u001b[0m \u001b[0;34m=\u001b[0m \u001b[0mnp\u001b[0m\u001b[0;34m.\u001b[0m\u001b[0mlinalg\u001b[0m\u001b[0;34m.\u001b[0m\u001b[0mnorm\u001b[0m\u001b[0;34m(\u001b[0m\u001b[0mTB\u001b[0m\u001b[0;34m)\u001b[0m\u001b[0;34m\u001b[0m\u001b[0;34m\u001b[0m\u001b[0m\n\u001b[0m\u001b[1;32m     24\u001b[0m \u001b[0;34m\u001b[0m\u001b[0m\n\u001b[1;32m     25\u001b[0m   \u001b[0mPosition_T\u001b[0m \u001b[0;34m=\u001b[0m \u001b[0mT\u001b[0m\u001b[0;34m\u001b[0m\u001b[0;34m\u001b[0m\u001b[0m\n",
            "\u001b[0;31mNameError\u001b[0m: name 'TB' is not defined"
          ]
        }
      ]
    },
    {
      "cell_type": "code",
      "metadata": {
        "colab": {
          "base_uri": "https://localhost:8080/"
        },
        "id": "JNLfzmuXaDQk",
        "outputId": "90a8cc99-d160-40ab-c9f7-1247fe7cfd51"
      },
      "source": [
        "A = np.array([1,1])\r\n",
        "B = np.array([2,3])\r\n",
        "A+B"
      ],
      "execution_count": null,
      "outputs": [
        {
          "output_type": "execute_result",
          "data": {
            "text/plain": [
              "array([3, 4])"
            ]
          },
          "metadata": {
            "tags": []
          },
          "execution_count": 25
        }
      ]
    },
    {
      "cell_type": "code",
      "metadata": {
        "id": "jdiAh5HbdOrt"
      },
      "source": [
        ""
      ],
      "execution_count": null,
      "outputs": []
    }
  ]
}